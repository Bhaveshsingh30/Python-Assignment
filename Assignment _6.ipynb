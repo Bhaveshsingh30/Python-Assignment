{
 "cells": [
  {
   "cell_type": "raw",
   "id": "ab0feff3-3218-4b04-a5f0-c4d29bb2a605",
   "metadata": {},
   "source": [
    "1. What are escape characters, and how do you use them?"
   ]
  },
  {
   "cell_type": "raw",
   "id": "8d8b852e-fa5c-4dd8-9dce-2a0984358049",
   "metadata": {},
   "source": [
    "In programming, an escape character is a special character that is used to represent other characters that cannot be directly typed or included in a string. \n",
    "In Python, escape characters are denoted by the backslash () symbol followed by another character or sequence of characters.\n",
    "\n",
    "Here are some commonly used escape characters in Python:\n",
    "\n",
    "\\n: Newline character. It is used to insert a new line in the string.\n",
    "\\t: Tab character. It is used to insert a tab in the string.\n",
    "': Single quote character. It is used to insert a single quote in the string.\n",
    "\": Double quote character. It is used to insert a double quote in the string."
   ]
  },
  {
   "cell_type": "code",
   "execution_count": 1,
   "id": "ad4728e1-1dbe-4b4c-a696-8047ca352af1",
   "metadata": {},
   "outputs": [
    {
     "name": "stdout",
     "output_type": "stream",
     "text": [
      "This is a string with a\n",
      "newline character.\n",
      "This is a string with a\ttab character.\n",
      "This is a string with a'single quote character.\n",
      "This is a string with a\"double quote character.\n",
      "This is a string with a\\backslash character.\n"
     ]
    }
   ],
   "source": [
    "#example of using escape characters in Python:\n",
    "print(\"This is a string with a\\nnewline character.\")\n",
    "print(\"This is a string with a\\ttab character.\")\n",
    "print(\"This is a string with a\\'single quote character.\")\n",
    "print(\"This is a string with a\\\"double quote character.\")\n",
    "print(\"This is a string with a\\\\backslash character.\")\n"
   ]
  },
  {
   "cell_type": "raw",
   "id": "e6c0cf72-d1df-4eec-b817-4227df056176",
   "metadata": {},
   "source": [
    "2. What do the escape characters n and t stand for?"
   ]
  },
  {
   "cell_type": "markdown",
   "id": "87de040a-f403-4d4f-b951-36a260f42ebd",
   "metadata": {},
   "source": [
    "In Python, the escape character \\n stands for a newline character, and the escape character \\t stands for a tab character.\n",
    "\n",
    "The \\n character is used to create a new line in a string. When we use this escape character in a string, it tells Python to insert a line break at that point in the string, which creates a new line\n",
    "\n",
    "The \\t character is used to insert a tab in a string. When we use this escape character in a string, it tells Python to insert a horizontal tab at that point in the string."
   ]
  },
  {
   "cell_type": "code",
   "execution_count": 2,
   "id": "e8c72be7-4648-4f5f-b856-4989e7974735",
   "metadata": {},
   "outputs": [
    {
     "name": "stdout",
     "output_type": "stream",
     "text": [
      "This is the first line.\n",
      "This is the second line.\n",
      "First column\tSecond column\tThird column\n"
     ]
    }
   ],
   "source": [
    "#example of \\n\n",
    "print(\"This is the first line.\\nThis is the second line.\")\n",
    "#example of \\t\n",
    "print(\"First column\\tSecond column\\tThird column\")\n"
   ]
  },
  {
   "cell_type": "raw",
   "id": "fb6f0d09-c16d-4549-89e9-962800b877c8",
   "metadata": {},
   "source": [
    "3. What is the way to include backslash characters in a string?"
   ]
  },
  {
   "cell_type": "markdown",
   "id": "5b3369f4-5b1a-48b3-b4e6-c3a8ac2b7b08",
   "metadata": {},
   "source": [
    "To include a backslash character (\\) in a string in Python, we can use the backslash character as an escape character. \n",
    "\n",
    "This means that we sould use two backslashes (\\\\) to represent a single backslash character in the string"
   ]
  },
  {
   "cell_type": "code",
   "execution_count": 3,
   "id": "31016ba3-8ed2-4180-bf08-42db7dd416b0",
   "metadata": {},
   "outputs": [
    {
     "name": "stdout",
     "output_type": "stream",
     "text": [
      "This is a backslash: \\\n"
     ]
    }
   ],
   "source": [
    "print(\"This is a backslash: \\\\\")"
   ]
  },
  {
   "cell_type": "raw",
   "id": "07e5733b-4635-4a0a-ba91-b005d9e478d7",
   "metadata": {},
   "source": [
    "4. The string \"Howl's Moving Castle\" is a correct value. Why isn't the single quote character in the word Howl's not escaped a problem?"
   ]
  },
  {
   "cell_type": "markdown",
   "id": "3ed9931f-10b2-412b-9a00-cc04700d391a",
   "metadata": {},
   "source": [
    "In Python, we can enclose a string in single quotes or double quotes. When a string is enclosed in single quotes, we can include double quotes within the string without any problem. Similarly, when a string is enclosed in double quotes, we can include single quotes within the string without any problem.\n",
    "\n",
    "In the given string \"Howl's Moving Castle\", the string is enclosed in double quotes, and the word \"Howl's\" contains a single quote character. Since the string is enclosed in double quotes, the single quote character within the string is not interpreted as the end of the string. Instead, the single quote character is treated as a regular character within the string.\n",
    "\n",
    "Therefore, there is no need to escape the single quote character in the word \"Howl's\" in the given string. However, if the string was enclosed in single quotes and it contained a single quote character, then you would need to escape the single quote character using the backslash character (\\') to avoid syntax errors."
   ]
  },
  {
   "cell_type": "raw",
   "id": "a5f0dafa-bd12-42b7-8cbf-41170abde180",
   "metadata": {},
   "source": [
    "5. How do you write a string of newlines if you don't want to use the n character?"
   ]
  },
  {
   "cell_type": "markdown",
   "id": "03ab97c5-a455-44c4-bcfd-4b0fe04c5344",
   "metadata": {},
   "source": [
    "If we don't want to use the \\n escape character to write a string of newlines in Python, we can use a multiline string literal by enclosing the string in triple quotes (\"\"\" or ''').\n",
    "\n",
    "Within a multiline string, we can include newlines simply by pressing Enter to start a new line. "
   ]
  },
  {
   "cell_type": "code",
   "execution_count": 4,
   "id": "9ff4b52f-c92a-411d-81b4-b3cad4417717",
   "metadata": {},
   "outputs": [
    {
     "name": "stdout",
     "output_type": "stream",
     "text": [
      "This is a string\n",
      "that contains\n",
      "multiple lines.\n"
     ]
    }
   ],
   "source": [
    "multiline_string = \"\"\"This is a string\n",
    "that contains\n",
    "multiple lines.\"\"\"\n",
    "print(multiline_string)\n"
   ]
  },
  {
   "cell_type": "raw",
   "id": "67172fa8-76f5-40fb-bac8-af537976064c",
   "metadata": {},
   "source": [
    "6. What are the values of the given expressions?\n",
    "'Hello, world!'[1]\n",
    "'Hello, world!'[0:5]\n",
    "'Hello, world!'[:5]\n",
    "'Hello, world!'[3:]\n"
   ]
  },
  {
   "cell_type": "code",
   "execution_count": 12,
   "id": "08783761-9800-43db-9048-32f6aa071768",
   "metadata": {},
   "outputs": [
    {
     "name": "stdout",
     "output_type": "stream",
     "text": [
      "e\n",
      "Hello\n",
      "Hello\n",
      "lo, world!\n"
     ]
    }
   ],
   "source": [
    "print('Hello, world!'[1])\n",
    "print('Hello, world!'[0:5])\n",
    "print('Hello, world!'[:5])\n",
    "print('Hello, world!'[3:])"
   ]
  },
  {
   "cell_type": "raw",
   "id": "c563e724-f486-4fb0-bb6b-846ca3404304",
   "metadata": {},
   "source": [
    "7. What are the values of the following expressions?\n",
    "'Hello'.upper()\n",
    "'Hello'.upper().isupper()\n",
    "'Hello'.upper().lower()\n"
   ]
  },
  {
   "cell_type": "code",
   "execution_count": 9,
   "id": "234295f6-1043-4dbf-8d01-f687f1a1878d",
   "metadata": {},
   "outputs": [
    {
     "data": {
      "text/plain": [
       "'HELLO'"
      ]
     },
     "execution_count": 9,
     "metadata": {},
     "output_type": "execute_result"
    }
   ],
   "source": [
    "'Hello'.upper()"
   ]
  },
  {
   "cell_type": "code",
   "execution_count": 10,
   "id": "7c3f0517-e1ea-4645-91c6-62e5b34ea323",
   "metadata": {},
   "outputs": [
    {
     "data": {
      "text/plain": [
       "True"
      ]
     },
     "execution_count": 10,
     "metadata": {},
     "output_type": "execute_result"
    }
   ],
   "source": [
    "'Hello'.upper().isupper()\n"
   ]
  },
  {
   "cell_type": "code",
   "execution_count": 11,
   "id": "f79ece66-b594-41f9-acab-5ef251602862",
   "metadata": {},
   "outputs": [
    {
     "data": {
      "text/plain": [
       "'hello'"
      ]
     },
     "execution_count": 11,
     "metadata": {},
     "output_type": "execute_result"
    }
   ],
   "source": [
    "'Hello'.upper().lower()"
   ]
  },
  {
   "cell_type": "raw",
   "id": "24744285-2770-47f9-aff4-93332a4c5c2d",
   "metadata": {},
   "source": [
    "8. What are the values of the following expressions?\n",
    "'Remember, remember, the fifth of July.'.split()\n",
    "'-'.join('There can only one.'.split())\n"
   ]
  },
  {
   "cell_type": "code",
   "execution_count": 13,
   "id": "e52c3241-f10d-473e-90b7-2cae53e82279",
   "metadata": {},
   "outputs": [
    {
     "data": {
      "text/plain": [
       "['Remember,', 'remember,', 'the', 'fifth', 'of', 'July.']"
      ]
     },
     "execution_count": 13,
     "metadata": {},
     "output_type": "execute_result"
    }
   ],
   "source": [
    "'Remember, remember, the fifth of July.'.split()"
   ]
  },
  {
   "cell_type": "code",
   "execution_count": 14,
   "id": "271a2bbb-fd35-40fe-b490-8e51b45f38c2",
   "metadata": {},
   "outputs": [
    {
     "data": {
      "text/plain": [
       "'There-can-only-one.'"
      ]
     },
     "execution_count": 14,
     "metadata": {},
     "output_type": "execute_result"
    }
   ],
   "source": [
    "'-'.join('There can only one.'.split())"
   ]
  },
  {
   "cell_type": "raw",
   "id": "940a66d8-e580-44d2-b766-9e6252ce333f",
   "metadata": {},
   "source": [
    "9. What are the methods for right-justifying, left-justifying, and centering a string?"
   ]
  },
  {
   "cell_type": "markdown",
   "id": "fc0bc72f-fa2e-4eb1-b463-809dd35b6be3",
   "metadata": {},
   "source": [
    "In Python, you we use the following methods to justify a string:\n",
    "\n",
    "str.ljust(width[, fillchar]): This method returns the original string left-justified in a string of specified width. If the original string is shorter than the specified width, it is padded with the optional fill character (default is space) on the right side.\n",
    "\n",
    "str.rjust(width[, fillchar]): This method returns the original string right-justified in a string of specified width. If the original string is shorter than the specified width, it is padded with the optional fill character (default is space) on the left side.\n",
    "\n",
    "str.center(width[, fillchar]): This method returns the original string centered in a string of specified width. If the original string is shorter than the specified width, it is padded with the optional fill character (default is space) on both sides."
   ]
  },
  {
   "cell_type": "code",
   "execution_count": 15,
   "id": "cd08f752-5451-4e79-b8d6-6371dec1c335",
   "metadata": {},
   "outputs": [
    {
     "name": "stdout",
     "output_type": "stream",
     "text": [
      "Hello     \n",
      "     Hello\n",
      "  Hello   \n"
     ]
    }
   ],
   "source": [
    "string = \"Hello\"\n",
    "\n",
    "# left-justify string in a field of width 10\n",
    "left_justified = string.ljust(10)\n",
    "print(left_justified)\n",
    "\n",
    "# right-justify string in a field of width 10\n",
    "right_justified = string.rjust(10)\n",
    "print(right_justified)\n",
    "\n",
    "# center string in a field of width 10\n",
    "centered = string.center(10)\n",
    "print(centered)\n"
   ]
  },
  {
   "cell_type": "raw",
   "id": "6d3c9b3a-14b5-403b-8f43-ba5534052372",
   "metadata": {},
   "source": [
    "10. What is the best way to remove whitespace characters from the start or end?"
   ]
  },
  {
   "cell_type": "markdown",
   "id": "cef9e8fc-0b15-4213-b3b3-a151dd04babe",
   "metadata": {},
   "source": [
    "In Python, the best way to remove whitespace characters (spaces, tabs, newlines) from the start or end of a string is to use the strip() method. \n",
    "\n",
    "The strip() method removes any whitespace characters from the beginning and end of the string and returns the modified string."
   ]
  },
  {
   "cell_type": "code",
   "execution_count": 17,
   "id": "0e7b3be8-69a0-47ff-86fe-dc1468696b8f",
   "metadata": {},
   "outputs": [
    {
     "name": "stdout",
     "output_type": "stream",
     "text": [
      "Hello World!\n"
     ]
    }
   ],
   "source": [
    "string = \"  Hello World!   \\t\\n\"\n",
    "stripped_string = string.strip()\n",
    "print(stripped_string)"
   ]
  },
  {
   "cell_type": "code",
   "execution_count": null,
   "id": "52602e88-ffb6-44d7-9a0c-32456840684d",
   "metadata": {},
   "outputs": [],
   "source": []
  }
 ],
 "metadata": {
  "kernelspec": {
   "display_name": "Python 3 (ipykernel)",
   "language": "python",
   "name": "python3"
  },
  "language_info": {
   "codemirror_mode": {
    "name": "ipython",
    "version": 3
   },
   "file_extension": ".py",
   "mimetype": "text/x-python",
   "name": "python",
   "nbconvert_exporter": "python",
   "pygments_lexer": "ipython3",
   "version": "3.10.6"
  }
 },
 "nbformat": 4,
 "nbformat_minor": 5
}
