{
 "cells": [
  {
   "cell_type": "markdown",
   "id": "0ec87a0d",
   "metadata": {},
   "source": [
    "## 1. In the below elements which of them are values or an expression? \n",
    "eg:- values can be\n",
    "integer or string and expressions will be mathematical operators.\n",
    "*\n",
    "&#39;hello&#39;\n",
    "-87.8\n",
    "-\n",
    "/\n",
    "+\n",
    "6"
   ]
  },
  {
   "cell_type": "raw",
   "id": "76420758",
   "metadata": {},
   "source": [
    "Answer \n",
    "*                                      -> mathematical operator\n",
    "&#39;hello&#39;                        -> integer or string\n",
    "-87.8                                  -> value(float)\n",
    "-                                      -> mathematical operator\n",
    "/                                      -> mathematical operator\n",
    "+                                      -> mathematical operator\n",
    "6                                      -> integer"
   ]
  },
  {
   "cell_type": "markdown",
   "id": "1fcdb06c",
   "metadata": {},
   "source": [
    "## 2. What is the difference between string and variable?"
   ]
  },
  {
   "cell_type": "raw",
   "id": "5e8b7766",
   "metadata": {},
   "source": [
    "A string is a data type that represents a sequence of characters, such as \"hello world\". A variable is a named reference to a value, which can be of any data type, including a string. So, you can assign a string value to a variable. \n",
    "For example:\n",
    "string = \"hello world\""
   ]
  },
  {
   "cell_type": "markdown",
   "id": "2916f8b1",
   "metadata": {},
   "source": [
    "## 3. Describe three different data types."
   ]
  },
  {
   "cell_type": "raw",
   "id": "c1c9fafc",
   "metadata": {},
   "source": [
    "1.Integer: represents a whole number, such as 1, 2, or -10.\n",
    "2.Float: represents a real number with decimal points, such as 1.0, -0.5, or 3.14.\n",
    "String: represents a sequence of characters, such as \"Hello\" or \"Goodbye\"."
   ]
  },
  {
   "cell_type": "markdown",
   "id": "801218e1",
   "metadata": {},
   "source": [
    "## 4. What is an expression made up of? What do all expressions do?"
   ]
  },
  {
   "cell_type": "raw",
   "id": "3fcdc7c3",
   "metadata": {},
   "source": [
    "An expression in Python is made up of values, operators, and/or variables that are combined to produce a result.\n",
    "\n",
    "All expressions evaluate to a single value, which can be of any data type (e.g. integer, float, string, etc.). The value can be assigned to a variable or used directly in a statement or function.\n",
    "\n",
    "For example, the expression 2 + 3 is an arithmetic expression that evaluates to 5. \n",
    "The expression \"Hello\" + \" \" + \"World\" is a string expression that evaluates to \"Hello World\"."
   ]
  },
  {
   "cell_type": "markdown",
   "id": "bc2e0d69",
   "metadata": {},
   "source": [
    "## 5. This assignment statements, like spam = 10. What is the difference between an expression and a statement?"
   ]
  },
  {
   "cell_type": "raw",
   "id": "2d0e0805",
   "metadata": {},
   "source": [
    "An expression is a combination of values, operators, and/or variables that can be evaluated to a single value.\n",
    "\n",
    "A statement, on the other hand, is a complete instruction in a program that performs some action, such as assignment, control flow, or function calls. An assignment statement like spam = 10 is an example of a statement. The expression 10 is being evaluated and its value is being assigned to the variable spam.\n",
    "\n",
    "In general, all statements are executed one by one in a sequential order, whereas expressions are evaluated to produce a value that can be used in various parts of a program."
   ]
  },
  {
   "cell_type": "markdown",
   "id": "bce04304",
   "metadata": {},
   "source": [
    "## 6. After running the following code, what does the variable bacon contain?                   \n",
    "        "
   ]
  },
  {
   "cell_type": "code",
   "execution_count": 1,
   "id": "1cf35b4a",
   "metadata": {},
   "outputs": [
    {
     "data": {
      "text/plain": [
       "23"
      ]
     },
     "execution_count": 1,
     "metadata": {},
     "output_type": "execute_result"
    }
   ],
   "source": [
    "bacon = 22    \n",
    "bacon + 1"
   ]
  },
  {
   "cell_type": "raw",
   "id": "a270abc4",
   "metadata": {},
   "source": [
    "After running the code, the variable bacon will contain the value 23."
   ]
  },
  {
   "cell_type": "markdown",
   "id": "d2b27ccb",
   "metadata": {},
   "source": [
    "## 7.What should the values of the following two terms be?"
   ]
  },
  {
   "cell_type": "code",
   "execution_count": 2,
   "id": "57bb13a7",
   "metadata": {},
   "outputs": [
    {
     "data": {
      "text/plain": [
       "'spamspamspam'"
      ]
     },
     "execution_count": 2,
     "metadata": {},
     "output_type": "execute_result"
    }
   ],
   "source": [
    "'spam' + 'spamspam'"
   ]
  },
  {
   "cell_type": "code",
   "execution_count": 3,
   "id": "a2d7c87e",
   "metadata": {},
   "outputs": [
    {
     "data": {
      "text/plain": [
       "'spamspamspam'"
      ]
     },
     "execution_count": 3,
     "metadata": {},
     "output_type": "execute_result"
    }
   ],
   "source": [
    "'spam' * 3"
   ]
  },
  {
   "cell_type": "markdown",
   "id": "87f1d669",
   "metadata": {},
   "source": [
    "The value for both term is same  i.e. - 'spamspamspam'"
   ]
  },
  {
   "cell_type": "markdown",
   "id": "7859efee",
   "metadata": {},
   "source": [
    "## 8. Why is eggs a valid variable name while 100 is invalid?"
   ]
  },
  {
   "cell_type": "raw",
   "id": "488cb67a",
   "metadata": {},
   "source": [
    "In Python, variable names must start with a letter or an underscore and can only contain letters, numbers, and underscores.\n",
    "So, eggs is a valid variable name because it starts with a letter, whereas 100 is invalid because it starts with a number."
   ]
  },
  {
   "cell_type": "markdown",
   "id": "decb530e",
   "metadata": {},
   "source": [
    "## 9. What three functions can be used to get the integer, floating-point number, or string version of a value?"
   ]
  },
  {
   "cell_type": "raw",
   "id": "33b19a7b",
   "metadata": {},
   "source": [
    "int(): Converts a value to an integer.\n",
    "float(): Converts a value to a floating-point number.\n",
    "str(): Converts a value to a string."
   ]
  },
  {
   "cell_type": "markdown",
   "id": "d3feb3ac",
   "metadata": {},
   "source": [
    "## 10.Why does this expression cause an error? How can you fix it?"
   ]
  },
  {
   "cell_type": "code",
   "execution_count": 4,
   "id": "2154f19b",
   "metadata": {},
   "outputs": [
    {
     "ename": "TypeError",
     "evalue": "can only concatenate str (not \"int\") to str",
     "output_type": "error",
     "traceback": [
      "\u001b[1;31m---------------------------------------------------------------------------\u001b[0m",
      "\u001b[1;31mTypeError\u001b[0m                                 Traceback (most recent call last)",
      "\u001b[1;32m~\\AppData\\Local\\Temp\\ipykernel_5732\\1774935878.py\u001b[0m in \u001b[0;36m<module>\u001b[1;34m\u001b[0m\n\u001b[1;32m----> 1\u001b[1;33m \u001b[1;34m'I have eaten '\u001b[0m \u001b[1;33m+\u001b[0m \u001b[1;36m99\u001b[0m \u001b[1;33m+\u001b[0m \u001b[1;34m' burritos.'\u001b[0m\u001b[1;33m\u001b[0m\u001b[1;33m\u001b[0m\u001b[0m\n\u001b[0m",
      "\u001b[1;31mTypeError\u001b[0m: can only concatenate str (not \"int\") to str"
     ]
    }
   ],
   "source": [
    "'I have eaten ' + 99 + ' burritos.'"
   ]
  },
  {
   "cell_type": "code",
   "execution_count": 5,
   "id": "92ddca1e",
   "metadata": {},
   "outputs": [
    {
     "data": {
      "text/plain": [
       "'I have eaten 99 burritos.'"
      ]
     },
     "execution_count": 5,
     "metadata": {},
     "output_type": "execute_result"
    }
   ],
   "source": [
    "'I have eaten ' + str(99) + ' burritos.'"
   ]
  },
  {
   "cell_type": "code",
   "execution_count": null,
   "id": "102b50fc",
   "metadata": {},
   "outputs": [],
   "source": []
  }
 ],
 "metadata": {
  "kernelspec": {
   "display_name": "Python 3 (ipykernel)",
   "language": "python",
   "name": "python3"
  },
  "language_info": {
   "codemirror_mode": {
    "name": "ipython",
    "version": 3
   },
   "file_extension": ".py",
   "mimetype": "text/x-python",
   "name": "python",
   "nbconvert_exporter": "python",
   "pygments_lexer": "ipython3",
   "version": "3.9.13"
  }
 },
 "nbformat": 4,
 "nbformat_minor": 5
}
