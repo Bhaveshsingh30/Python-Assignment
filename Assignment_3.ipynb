{
 "cells": [
  {
   "cell_type": "raw",
   "id": "6a5689c4-d41b-4649-9bc8-48cea8ad0a85",
   "metadata": {},
   "source": [
    "1. Why are functions advantageous to have in your programs?"
   ]
  },
  {
   "cell_type": "markdown",
   "id": "26d6df49-3261-4e30-b2d7-f862be2db82e",
   "metadata": {},
   "source": [
    "Functions are advantageous to have in programs for several reasons:\n",
    "\n",
    "1.Reusability: Functions allow you to write a block of code once and reuse it multiple times throughout your program. This can save time and reduce errors, as you don't have to write the same code over and over again.\n",
    "\n",
    "2.Modularity: Functions allow you to break your program down into smaller, more manageable parts. This can make your code easier to read, understand, and maintain.\n",
    "\n",
    "3.Abstraction: Functions can hide implementation details from the user, making your program easier to use and understand. This can also make it easier to update or modify your code without affecting the overall functionality.\n",
    "\n",
    "4.Testing: Functions can be tested in isolation, making it easier to debug and identify issues. This can also help to ensure that your code is reliable and error-free.\n",
    "\n",
    "Overall, functions can help you write cleaner, more efficient, and more maintainable code. They can also make it easier to collaborate with others on a project by breaking down the work into smaller, more manageable parts."
   ]
  },
  {
   "cell_type": "raw",
   "id": "c595c7ea-0d2f-4ef5-bdb1-e08e7390279a",
   "metadata": {},
   "source": [
    "2. When does the code in a function run: when it is specified or when it is called?"
   ]
  },
  {
   "cell_type": "markdown",
   "id": "0b04f806-d4d6-4b2e-9a46-d53bb59764ad",
   "metadata": {},
   "source": [
    "The code in a function runs when the function is called, not when it is specified. When we define a function, we are essentially creating a block of code that can be executed later when the function is called.\n",
    "To call a function, we use its name followed by a set of parentheses. The code inside the function is executed only when the function is called and the flow of execution reaches that point. \n",
    "The function may take arguments as inputs, and it may also return values as outputs."
   ]
  },
  {
   "cell_type": "code",
   "execution_count": 2,
   "id": "df228e1f-5d2b-425b-a27a-7292c978b68c",
   "metadata": {},
   "outputs": [
    {
     "name": "stdout",
     "output_type": "stream",
     "text": [
      "8\n"
     ]
    }
   ],
   "source": [
    "def add_numbers(x, y):\n",
    "    return x + y\n",
    "#The function is defined with the def keyword, but it does not actually execute until it is called. To call the function and get the result, you would write:\n",
    "result = add_numbers(3, 5)\n",
    "print(result)\n",
    "#This code would call the add_numbers function with the arguments 3 and 5, and store the result 8 in the variable result. The code inside the function add_numbers would only run at the time of this function call."
   ]
  },
  {
   "cell_type": "raw",
   "id": "d7c48ff6-7abe-46e4-92ea-b1a351f2732f",
   "metadata": {},
   "source": [
    "3. What statement creates a function?"
   ]
  },
  {
   "cell_type": "markdown",
   "id": "5a223f41-8b3a-42a8-b319-413b19cf3240",
   "metadata": {},
   "source": [
    "The def statement is used to create a function in Python."
   ]
  },
  {
   "cell_type": "code",
   "execution_count": 4,
   "id": "eaa6194e-c548-4d09-8839-81f3e1b639c6",
   "metadata": {},
   "outputs": [],
   "source": [
    "#The general syntax for creating a function is as follows: \n",
    "def function_name(parameters):\n",
    "    \"\"\"Docstring (optional)\"\"\"\n",
    "    # code to be executed\n",
    "    return value (optional)\n"
   ]
  },
  {
   "cell_type": "markdown",
   "id": "e0a14d7d-4168-464b-89a2-82c7b8310653",
   "metadata": {},
   "source": [
    "The def keyword is followed by the name of the function, and the parameter list is enclosed in parentheses. The code block that makes up the body of the function is indented and comes after the function header.\n",
    "\n",
    "The optional docstring is a string that provides a brief description of what the function does. It is recommended to include a docstring for every function you create to help others understand what your code does.\n",
    "\n",
    "The return statement is used to specify the value that the function should return when it is called. If we don't specify a return value, the function will return None by default."
   ]
  },
  {
   "cell_type": "code",
   "execution_count": 5,
   "id": "0a15f9bf-43ed-400a-a8b0-fbffdb389235",
   "metadata": {},
   "outputs": [
    {
     "name": "stdout",
     "output_type": "stream",
     "text": [
      "5\n"
     ]
    }
   ],
   "source": [
    "#Here's an example of a simple function that takes two numbers as input and returns their sum:\n",
    "def add_numbers(x, y):\n",
    "    \"\"\"This function adds two numbers\"\"\"\n",
    "    return x + y\n",
    "#we can call this function by passing in two arguments:\n",
    "\n",
    "result = add_numbers(2, 3)\n",
    "print(result) \n"
   ]
  },
  {
   "cell_type": "raw",
   "id": "7d1d5db6-8471-4926-8e4f-bdf7f413193a",
   "metadata": {},
   "source": [
    "4. What is the difference between a function and a function call?"
   ]
  },
  {
   "cell_type": "markdown",
   "id": "3ba5c56b-3fd6-4eb1-abeb-5a100875d225",
   "metadata": {},
   "source": [
    "A function is a block of code that performs a specific task when it is executed. It is a self-contained unit of code that can be reused throughout a program. A function can take inputs, perform some actions on those inputs, and return a result as output.\n",
    "\n",
    "On the other hand, a function call is a statement that invokes a function and executes its code. When you call a function, you pass in one or more arguments (if the function has any parameters), and the function processes those arguments and returns a value (if it has a return statement).\n",
    "\n",
    "In simple terms, a function is the code block that defines a specific task or operation, while a function call is the statement that instructs the program to execute that code block with specific inputs."
   ]
  },
  {
   "cell_type": "code",
   "execution_count": 6,
   "id": "b5743e17-0a91-4485-bf89-74d9a1fb1f6a",
   "metadata": {},
   "outputs": [
    {
     "name": "stdout",
     "output_type": "stream",
     "text": [
      "5\n"
     ]
    }
   ],
   "source": [
    "#Here is an example of a function definition and a function call in Python:\n",
    "# Function definition\n",
    "def add_numbers(x, y):\n",
    "    return x + y\n",
    "\n",
    "# Function call\n",
    "result = add_numbers(2, 3)\n",
    "print(result)  # Output: 5\n",
    "\n"
   ]
  },
  {
   "cell_type": "raw",
   "id": "7a3b723f-549e-4ebf-9128-6fa3077ccc2b",
   "metadata": {},
   "source": [
    "5. How many global scopes are there in a Python program? How many local scopes?"
   ]
  },
  {
   "cell_type": "markdown",
   "id": "f62aadd6-a81f-4420-b615-ff1210513e51",
   "metadata": {},
   "source": [
    "In a Python program, there is only one global scope. All variables defined outside of any function or class are part of this global scope, and they can be accessed from any part of the program.\n",
    "\n",
    "Local scopes, on the other hand, are created whenever a function or method is called. Each function or method call creates a new local scope, which is separate from the global scope. Variables defined within a function or method are part of this local scope, and they cannot be accessed from outside the function or method.\n",
    "\n",
    "When a function or method is called, Python first searches for the variable in the local scope. If it doesn't find it there, it looks for the variable in the enclosing scopes (if any), and finally in the global scope. This is known as the \"LEGB\" rule of Python variable scoping:\n",
    "\n",
    "Local (L) - the current function or method\n",
    "\n",
    "Enclosing (E) - any enclosing functions or methods (if any)\n",
    "\n",
    "Global (G) - the module in which the function or method is defined\n",
    "\n",
    "Built-in (B) - the built-in Python functions and types"
   ]
  },
  {
   "cell_type": "raw",
   "id": "58a2432d-d50d-492e-a544-fc4229ce730a",
   "metadata": {},
   "source": [
    "#Here's an example that demonstrates the use of global and local scopes in Python:\n",
    "x = 10  # Global variable\n",
    "\n",
    "def my_function():\n",
    "    y = 20  # Local variable\n",
    "    print(x)  # Access global variable\n",
    "    print(y)  # Access local variable\n",
    "\n",
    "my_function()  # Output: 10 20\n",
    "print(x)  # Output: 10\n",
    "print(y)  # Error: name 'y' is not defined\n",
    "\n",
    "In this example,\n",
    "x is a global variable that can be accessed from within the my_function function.\n",
    "y, on the other hand, is a local variable that can only be accessed from within the function.\n",
    "When we try to print y outside of the function, we get a NameError because it is not defined in the global scope.\n"
   ]
  },
  {
   "cell_type": "code",
   "execution_count": null,
   "id": "435ea750-db5f-4460-9ece-f8d7695814c2",
   "metadata": {},
   "outputs": [],
   "source": []
  },
  {
   "cell_type": "raw",
   "id": "bc2114e3-28c9-4819-940f-03a54c166be0",
   "metadata": {},
   "source": [
    "6. What happens to variables in a local scope when the function call returns?"
   ]
  },
  {
   "cell_type": "markdown",
   "id": "619c6529-5a44-4572-8b33-95bed907911c",
   "metadata": {},
   "source": [
    "When a function call returns, the local scope created for that function is destroyed, and all the variables defined within the scope are deleted. This means that any variables created within the function, including its parameters, are no longer accessible once the function call returns."
   ]
  },
  {
   "cell_type": "raw",
   "id": "0dfac70a-3404-4f2a-9f08-343cdc5cfcf8",
   "metadata": {},
   "source": [
    "7. What is the concept of a return value? Is it possible to have a return value in an expression?"
   ]
  },
  {
   "cell_type": "markdown",
   "id": "43ba7b15-fdaa-41d5-9106-5b9845d30405",
   "metadata": {},
   "source": [
    "The concept of a return value in programming refers to the value that is returned by a function or method after it has completed its execution. A return value is typically used to convey the result of a computation or operation that has been performed by the function.\n",
    "\n",
    "In Python, the return statement is used to specify the value that a function should return. When a return statement is executed, the function stops executing and returns the specified value to the caller.\n"
   ]
  },
  {
   "cell_type": "code",
   "execution_count": 8,
   "id": "7f14110f-7da7-4d4d-b845-8c7fb0f59454",
   "metadata": {},
   "outputs": [
    {
     "name": "stdout",
     "output_type": "stream",
     "text": [
      "9\n"
     ]
    }
   ],
   "source": [
    "#For example, consider the following function that computes the square of a number:\n",
    "\n",
    "def square(x):\n",
    "    return x ** 2\n",
    "#When this function is called with an argument of 3, it computes the square of 3 (which is 9) and returns that value to the caller.\n",
    "\n",
    "result = square(3)\n",
    "print(result)"
   ]
  },
  {
   "cell_type": "raw",
   "id": "fc229411-565a-458b-945d-270f6df7e825",
   "metadata": {},
   "source": [
    "8. If a function does not have a return statement, what is the return value of a call to that function?"
   ]
  },
  {
   "cell_type": "markdown",
   "id": "31c80ed8-ce5a-4dd7-a491-9b4487d0090d",
   "metadata": {},
   "source": [
    "If a function does not have a return statement, then the return value of a call to that function is None. In Python, None is a special object that represents the absence of a value. It is often used to indicate that a function or method does not return a value or that a variable has no value assigned to it."
   ]
  },
  {
   "cell_type": "raw",
   "id": "211ffe13-95c9-4f95-9a6c-3a9178c66bdb",
   "metadata": {},
   "source": [
    "9. How do you make a function variable refer to the global variable?"
   ]
  },
  {
   "cell_type": "markdown",
   "id": "a308e16d-c487-4f88-9428-a261eb2fb1f3",
   "metadata": {},
   "source": [
    "In Python, you can use the global keyword to indicate that a variable in a function should refer to a global variable with the same name"
   ]
  },
  {
   "cell_type": "code",
   "execution_count": 11,
   "id": "5d7f79a1-1f09-473f-95e1-de18728cb0e1",
   "metadata": {},
   "outputs": [
    {
     "name": "stdout",
     "output_type": "stream",
     "text": [
      "5\n",
      "10\n"
     ]
    }
   ],
   "source": [
    "x = 5\n",
    "\n",
    "def my_function():\n",
    "    global x\n",
    "    x = 10\n",
    "\n",
    "print(x)  # Output: 5\n",
    "my_function()\n",
    "print(x)  # Output: 10\n"
   ]
  },
  {
   "cell_type": "markdown",
   "id": "ad1ff836-99fb-46d5-91f3-4f3c3005a585",
   "metadata": {},
   "source": [
    "\n",
    "In above example, we define a global variable x with a value of 5. We then define a function my_function that sets x to 10. However, without the global keyword, x would be treated as a local variable within the function, and the global variable x would not be affected.\n",
    "\n",
    "By using the global keyword before the assignment to x in my_function, we tell Python to use the global variable x instead of creating a new local variable. This allows us to modify the value of the global variable from within the function.\n",
    "\n",
    "It's worth noting that modifying global variables from within a function can make code harder to read and understand, especially in larger programs. It is generally considered good practice to minimize the use of global variables and to pass data into and out of functions using parameters and return values."
   ]
  },
  {
   "cell_type": "raw",
   "id": "dc3efb41-2861-4380-9ce6-3934a8966f9e",
   "metadata": {},
   "source": [
    "10. What is the data type of None?"
   ]
  },
  {
   "cell_type": "markdown",
   "id": "e30dbd56-73a1-4c75-a32c-189d762e069d",
   "metadata": {},
   "source": [
    "In Python, None is a built-in constant that represents the absence of a value or a null value. It is often used to indicate that a variable or a function does not have a value or that an operation did not produce a result.\n",
    "\n",
    "The data type of None is NoneType. NoneType is a special data type in Python that has only one possible value: None."
   ]
  },
  {
   "cell_type": "code",
   "execution_count": 13,
   "id": "23317839-2b12-4920-b6ce-cb84a8caf2ec",
   "metadata": {},
   "outputs": [
    {
     "name": "stdout",
     "output_type": "stream",
     "text": [
      "<class 'NoneType'>\n"
     ]
    }
   ],
   "source": [
    "x = None\n",
    "print(type(x))\n",
    "#In this example, we define a variable x with the value None. We then use the type() function to check the type of x, which is NoneType."
   ]
  },
  {
   "cell_type": "raw",
   "id": "8e9536e8-2bef-42fb-8c3f-ef294b28bf7b",
   "metadata": {},
   "source": [
    "11. What does the sentence import areallyourpetsnamederic do?"
   ]
  },
  {
   "cell_type": "markdown",
   "id": "7cefc826-339e-4777-932e-16ba7d2ce10b",
   "metadata": {},
   "source": [
    "In Python, the import statement is used to bring modules or objects from modules into the current namespace, so that they can be used in the current program.\n",
    "\n",
    "if we have some defined modules in \"areallyourpetsnamederic\" , we can use them in current namespace, or else it would raise a ModuleNotFoundError exception, indicating that the specified module could not be found."
   ]
  },
  {
   "cell_type": "raw",
   "id": "b8ca977c-8505-4d6d-b1fe-53ad579c0ce9",
   "metadata": {},
   "source": [
    "12. If you had a bacon() feature in a spam module, what would you call it after importing spam?"
   ]
  },
  {
   "cell_type": "markdown",
   "id": "1b2223b8-b7a2-4746-89cf-f93c2f9f514d",
   "metadata": {},
   "source": [
    "If we imported the spam module in our Python program, we could call the bacon() function from the spam module using the dot notation, like this:\n",
    "\n",
    "import spam\n",
    "\n",
    "spam.bacon()\n",
    "\n",
    "\n",
    "In this example, the import statement brings the spam module into the current namespace. The function bacon() is then accessed using the dot notation, which specifies the name of the module followed by the name of the function.\n",
    "\n",
    "By calling spam.bacon(), we are invoking the bacon() function from the spam module, which can perform some action or return some value depending on the implementation of the function."
   ]
  },
  {
   "cell_type": "raw",
   "id": "512becfb-b44a-46a3-8eb5-65b05c8c7003",
   "metadata": {},
   "source": [
    "13. What can you do to save a programme from crashing if it encounters an error?"
   ]
  },
  {
   "cell_type": "markdown",
   "id": "361dadd4-8d57-4655-b929-d14258e1c6eb",
   "metadata": {},
   "source": [
    "In Python, we can use exception handling to catch and handle errors that might cause a program to crash. Exceptions are errors that occur during the execution of a program, and Python provides a way to handle them gracefully by catching them with a try-except block.\n"
   ]
  },
  {
   "cell_type": "raw",
   "id": "3c1196f6-db83-4267-a5c2-cb22844d87cf",
   "metadata": {},
   "source": [
    "try:\n",
    "    # code that might raise an exception\n",
    "except:\n",
    "    # code to handle the exception\n"
   ]
  },
  {
   "cell_type": "markdown",
   "id": "06071626-da9b-4790-b2f2-3098d6ec9552",
   "metadata": {},
   "source": [
    "In this example, the code that might raise an exception is placed inside the try block, while the code to handle the exception is placed inside the except block. If an exception occurs inside the try block, the program will jump immediately to the except block to handle the exception."
   ]
  },
  {
   "cell_type": "code",
   "execution_count": 16,
   "id": "f919002e-67ae-4846-84f9-b120e3f17f91",
   "metadata": {},
   "outputs": [
    {
     "name": "stdin",
     "output_type": "stream",
     "text": [
      "Enter a number:  0\n"
     ]
    },
    {
     "name": "stdout",
     "output_type": "stream",
     "text": [
      "Cannot divide by zero. Please enter a non-zero value.\n"
     ]
    }
   ],
   "source": [
    "try:\n",
    "    x = int(input(\"Enter a number: \"))\n",
    "    y = 10 / x\n",
    "    print(\"The result is:\", y)\n",
    "except ValueError:\n",
    "    print(\"Invalid input. Please enter a valid integer.\")\n",
    "except ZeroDivisionError:\n",
    "    print(\"Cannot divide by zero. Please enter a non-zero value.\")\n"
   ]
  },
  {
   "cell_type": "raw",
   "id": "8061bd3b-1e9c-439f-a09b-32172b312add",
   "metadata": {},
   "source": [
    "14. What is the purpose of the try clause? What is the purpose of the except clause?"
   ]
  },
  {
   "cell_type": "markdown",
   "id": "45730304-e22e-4f12-bcad-cbea8fdabca8",
   "metadata": {},
   "source": [
    "The try clause in Python is used to enclose the code that may raise an exception during its execution. The purpose of the try clause is to test the code for any potential exceptions and provide a way to handle them gracefully.\n",
    "\n",
    "If an exception occurs inside the try block, then the flow of execution is immediately transferred to the except clause. The except clause defines the code that should be executed in case of an exception. The purpose of the except clause is to catch the exception and take appropriate action to handle it.\n",
    "\n",
    "The except clause allows us to specify the type of exception you want to catch by providing the name of the exception class. If we don't specify a specific exception type, the except clause will catch any exception that occurs within the try block."
   ]
  },
  {
   "cell_type": "raw",
   "id": "3d3398d6-c52c-46d0-a0e4-f6ec88fa4476",
   "metadata": {},
   "source": [
    "Here is an example to illustrate the purpose of the try and except clauses:\n",
    "try:\n",
    "    # code that might raise an exception\n",
    "except TypeError:\n",
    "    # code to handle a TypeError exception\n",
    "except ValueError:\n",
    "    # code to handle a ValueError exception\n",
    "except:\n",
    "    # code to handle any other exception\n",
    "In this example, the try clause encloses the code that might raise an exception. If a TypeError or ValueError exception is raised, the corresponding except block will be executed to handle the exception. \n",
    "If any other exception is raised, the last except block will catch it and handle it.\n",
    "The try and except clauses are powerful tools that enable us to write code that can handle errors and exceptions gracefully, improving the overall robustness and reliability of your programs."
   ]
  },
  {
   "cell_type": "code",
   "execution_count": null,
   "id": "9f962802-82c8-448b-9617-a154dc4e4dac",
   "metadata": {},
   "outputs": [],
   "source": []
  }
 ],
 "metadata": {
  "kernelspec": {
   "display_name": "Python 3 (ipykernel)",
   "language": "python",
   "name": "python3"
  },
  "language_info": {
   "codemirror_mode": {
    "name": "ipython",
    "version": 3
   },
   "file_extension": ".py",
   "mimetype": "text/x-python",
   "name": "python",
   "nbconvert_exporter": "python",
   "pygments_lexer": "ipython3",
   "version": "3.10.6"
  }
 },
 "nbformat": 4,
 "nbformat_minor": 5
}
